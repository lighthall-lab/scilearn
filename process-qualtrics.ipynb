{
 "cells": [
  {
   "cell_type": "code",
   "execution_count": 70,
   "metadata": {
    "collapsed": true
   },
   "outputs": [],
   "source": [
    "import os\n",
    "source_dir=os.path.join('..','sourcedata','questionnaires')"
   ]
  },
  {
   "cell_type": "code",
   "execution_count": 71,
   "metadata": {},
   "outputs": [],
   "source": [
    "import pandas as pd\n",
    "frames=[]\n",
    "for file in os.listdir(source_dir):\n",
    "    frames.append(pd.read_csv(os.path.join(source_dir,file)))"
   ]
  },
  {
   "cell_type": "code",
   "execution_count": 72,
   "metadata": {},
   "outputs": [],
   "source": [
    "frame = frames[0].merge(frames[1],'outer')"
   ]
  },
  {
   "cell_type": "code",
   "execution_count": 73,
   "metadata": {},
   "outputs": [],
   "source": [
    "frame = frame[frame['Finished']=='True']"
   ]
  },
  {
   "cell_type": "code",
   "execution_count": 74,
   "metadata": {},
   "outputs": [],
   "source": [
    "frame = frame.rename(columns={'Q9':'ssid','SC0':'score'}).set_index('ssid')"
   ]
  },
  {
   "cell_type": "code",
   "execution_count": 75,
   "metadata": {},
   "outputs": [
    {
     "data": {
      "text/plain": [
       "Index([u'StartDate', u'EndDate', u'Status', u'IPAddress', u'Progress',\n",
       "       u'Duration (in seconds)', u'Finished', u'RecordedDate', u'ResponseId',\n",
       "       u'RecipientLastName', u'RecipientFirstName', u'RecipientEmail',\n",
       "       u'ExternalReference', u'LocationLatitude', u'LocationLongitude',\n",
       "       u'DistributionChannel', u'UserLanguage', u'1a', u'2a', u'3c', u'4b',\n",
       "       u'5a', u'6b', u'7a', u'8a', u'9c', u'10a', u'11b', u'12c', u'13a',\n",
       "       u'14a', u'15c', u'16b', u'17a', u'score', u'1c', u'2b', u'3a', u'4a',\n",
       "       u'5c', u'6a', u'7c', u'8c', u'9a', u'10b', u'11a', u'12a', u'13b',\n",
       "       u'14c', u'15a', u'16a', u'17c'],\n",
       "      dtype='object')"
      ]
     },
     "execution_count": 75,
     "metadata": {},
     "output_type": "execute_result"
    }
   ],
   "source": [
    "frame.columns"
   ]
  },
  {
   "cell_type": "code",
   "execution_count": 76,
   "metadata": {
    "collapsed": true
   },
   "outputs": [],
   "source": [
    "columns=[\n",
    "    'score',\n",
    "    '1a','2a','3c','4b','5a','6b','7a','8a','9c',\n",
    "    '10a','11b','12c','13a','14a','15c','16b','17a',\n",
    "    '1c','2b','3a','4a','5c','6a','7c','8c','9a',\n",
    "    '10b','11a','12a','13b','14c','15a','16a','17c'\n",
    "]"
   ]
  },
  {
   "cell_type": "code",
   "execution_count": 80,
   "metadata": {},
   "outputs": [],
   "source": [
    "frame=frame[columns]"
   ]
  },
  {
   "cell_type": "code",
   "execution_count": 81,
   "metadata": {},
   "outputs": [],
   "source": [
    "frame.to_csv(os.path.join(source_dir,'sub-all_task-comprehension_beh.csv'))"
   ]
  }
 ],
 "metadata": {
  "kernelspec": {
   "display_name": "Python 2",
   "language": "python",
   "name": "python2"
  },
  "language_info": {
   "codemirror_mode": {
    "name": "ipython",
    "version": 2
   },
   "file_extension": ".py",
   "mimetype": "text/x-python",
   "name": "python",
   "nbconvert_exporter": "python",
   "pygments_lexer": "ipython2",
   "version": "2.7.14"
  }
 },
 "nbformat": 4,
 "nbformat_minor": 2
}
