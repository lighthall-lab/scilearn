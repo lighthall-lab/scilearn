{
 "cells": [
  {
   "cell_type": "code",
   "execution_count": 1,
   "metadata": {
    "collapsed": true
   },
   "outputs": [],
   "source": [
    "import os\n",
    "source_dir=os.path.join('..','sourcedata','qualtrics')"
   ]
  },
  {
   "cell_type": "code",
   "execution_count": 2,
   "metadata": {
    "collapsed": true
   },
   "outputs": [],
   "source": [
    "import pandas as pd\n",
    "frame=pd.DataFrame()\n",
    "for file in os.listdir(source_dir):\n",
    "    df = pd.read_csv(os.path.join(source_dir,file))\n",
    "    df['version']=os.path.basename(file)[:2]\n",
    "    frame=frame.append(df)"
   ]
  },
  {
   "cell_type": "code",
   "execution_count": 3,
   "metadata": {
    "collapsed": true
   },
   "outputs": [],
   "source": [
    "frame=frame[frame['Finished']=='True']\n",
    "frame=frame.rename(columns={'Q9':'ssid','SC0':'score'})\n",
    "frame['ssid']=frame['ssid']+'\\t'"
   ]
  },
  {
   "cell_type": "code",
   "execution_count": 4,
   "metadata": {
    "collapsed": true
   },
   "outputs": [],
   "source": [
    "columns=[\n",
    "    'ssid','version','score',\n",
    "    '1a','2a','3c','4b','5a','6b','7a','8a','9c',\n",
    "    '10a','11b','12c','13a','14a','15c','16b','17a',\n",
    "    '1c','2b','3a','4a','5c','6a','7c','8c','9a',\n",
    "    '10b','11a','12a','13b','14c','15a','16a','17c'\n",
    "]"
   ]
  },
  {
   "cell_type": "code",
   "execution_count": 5,
   "metadata": {
    "collapsed": true
   },
   "outputs": [],
   "source": [
    "frame=frame.sort_values(['ssid','version'])[columns].set_index('ssid')"
   ]
  },
  {
   "cell_type": "markdown",
   "metadata": {},
   "source": [
    "output"
   ]
  },
  {
   "cell_type": "code",
   "execution_count": 6,
   "metadata": {},
   "outputs": [
    {
     "name": "stdout",
     "output_type": "stream",
     "text": [
      "[Error 183] Cannot create a file when that file already exists: '..\\\\derivatives'\n"
     ]
    }
   ],
   "source": [
    "derivs_dir=os.path.join('..','derivatives')\n",
    "try:os.mkdir(derivs_dir)\n",
    "except OSError as e:\n",
    "    print e"
   ]
  },
  {
   "cell_type": "code",
   "execution_count": 7,
   "metadata": {
    "collapsed": true
   },
   "outputs": [],
   "source": [
    "frame.to_csv(os.path.join(derivs_dir,'sub-all_task-comp_beh.csv'))"
   ]
  }
 ],
 "metadata": {
  "kernelspec": {
   "display_name": "Python 2",
   "language": "python",
   "name": "python2"
  },
  "language_info": {
   "codemirror_mode": {
    "name": "ipython",
    "version": 2
   },
   "file_extension": ".py",
   "mimetype": "text/x-python",
   "name": "python",
   "nbconvert_exporter": "python",
   "pygments_lexer": "ipython2",
   "version": "2.7.14"
  }
 },
 "nbformat": 4,
 "nbformat_minor": 2
}
