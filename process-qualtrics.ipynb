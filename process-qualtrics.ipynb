{
 "cells": [
  {
   "cell_type": "code",
   "execution_count": 1,
   "metadata": {},
   "outputs": [],
   "source": [
    "import os"
   ]
  },
  {
   "cell_type": "markdown",
   "metadata": {},
   "source": [
    "## Comprehension Tests"
   ]
  },
  {
   "cell_type": "markdown",
   "metadata": {},
   "source": [
    "### Setup & Import"
   ]
  },
  {
   "cell_type": "code",
   "execution_count": 2,
   "metadata": {},
   "outputs": [],
   "source": [
    "import pandas as pd\n",
    "source_dir=os.path.join('..','sourcedata','qualtrics','comprehension')"
   ]
  },
  {
   "cell_type": "code",
   "execution_count": 11,
   "metadata": {},
   "outputs": [],
   "source": [
    "frame=pd.DataFrame()\n",
    "for file in os.listdir(source_dir):\n",
    "    df = pd.read_csv(os.path.join(source_dir,file))\n",
    "    df['version']=os.path.basename(file)[:2]\n",
    "    frame=frame.append(df)"
   ]
  },
  {
   "cell_type": "markdown",
   "metadata": {},
   "source": [
    "### Filter & Sort"
   ]
  },
  {
   "cell_type": "code",
   "execution_count": 16,
   "metadata": {},
   "outputs": [],
   "source": [
    "frame=frame[frame['Finished']=='1']\n",
    "frame=frame.rename(columns={'Q9':'ssid','SC0':'score'})\n",
    "frame['ssid']=frame['ssid']+'\\t'"
   ]
  },
  {
   "cell_type": "code",
   "execution_count": 20,
   "metadata": {},
   "outputs": [],
   "source": [
    "columns=[\n",
    "    'ssid','version','score',\n",
    "    '1a','2a','3c','4b','5a','6b','7a','8a','9c',\n",
    "    '10a','11b','12c','13a','14a','15c','16b','17a',\n",
    "    '1c','2b','3a','4a','5c','6a','7c','8c','9a',\n",
    "    '10b','11a','12a','13b','14c','15a','16a','17c'\n",
    "]"
   ]
  },
  {
   "cell_type": "code",
   "execution_count": 21,
   "metadata": {},
   "outputs": [],
   "source": [
    "frame=frame.sort_values(['ssid','version'])[columns].set_index('ssid')"
   ]
  },
  {
   "cell_type": "markdown",
   "metadata": {},
   "source": [
    "### Output"
   ]
  },
  {
   "cell_type": "code",
   "execution_count": null,
   "metadata": {},
   "outputs": [],
   "source": [
    "derivs_dir=os.path.join('..','derivatives')\n",
    "try:os.mkdir(derivs_dir)\n",
    "except OSError as e:\n",
    "    print(e)"
   ]
  },
  {
   "cell_type": "code",
   "execution_count": null,
   "metadata": {
    "collapsed": true
   },
   "outputs": [],
   "source": [
    "frame.to_csv(os.path.join(derivs_dir,'sub-all_task-comp_beh.csv'))"
   ]
  },
  {
   "cell_type": "markdown",
   "metadata": {},
   "source": [
    "## Survey Blocks"
   ]
  },
  {
   "cell_type": "markdown",
   "metadata": {},
   "source": [
    "### Import"
   ]
  },
  {
   "cell_type": "code",
   "execution_count": 3,
   "metadata": {},
   "outputs": [],
   "source": [
    "source_dir = os.path.join(source_dir,'..','surveys')"
   ]
  },
  {
   "cell_type": "code",
   "execution_count": 43,
   "metadata": {},
   "outputs": [],
   "source": [
    "frames = []\n",
    "for file in os.listdir(source_dir):\n",
    "    df = pd.read_csv(os.path.join(source_dir,file))\n",
    "    df = df[df['Finished'] == 'True']\n",
    "    df['SSID'] = df['SSID']+'\\t'\n",
    "    frames.append(df)"
   ]
  }
 ],
 "metadata": {
  "kernelspec": {
   "display_name": "Python 3",
   "language": "python",
   "name": "python3"
  },
  "language_info": {
   "codemirror_mode": {
    "name": "ipython",
    "version": 3
   },
   "file_extension": ".py",
   "mimetype": "text/x-python",
   "name": "python",
   "nbconvert_exporter": "python",
   "pygments_lexer": "ipython3",
   "version": "3.6.4"
  }
 },
 "nbformat": 4,
 "nbformat_minor": 2
}
