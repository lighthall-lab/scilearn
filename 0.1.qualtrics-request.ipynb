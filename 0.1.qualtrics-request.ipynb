{
 "cells": [
  {
   "cell_type": "code",
   "execution_count": 1,
   "metadata": {},
   "outputs": [],
   "source": [
    "import os,io,requests,json,zipfile"
   ]
  },
  {
   "cell_type": "code",
   "execution_count": 9,
   "metadata": {},
   "outputs": [],
   "source": [
    "# Setting user & survey parameters\n",
    "apiToken = open(os.path.join('u:/','keys','qualtrics-api-token.txt'),'r').read()\n",
    "surveyIdList = [\"SV_bsl9vF012E6Thbv\",\"SV_bBNxUVhoGFcyKot\",\"SV_2gAX1ty1UjOeKBT\",\"SV_d4o0ZLBDB8GxpwV\"]\n",
    "fileFormat = \"csv\"\n",
    "dataCenter = 'ca1'\n",
    "output_dir = os.path.join('..','sourcedata','qualtrics')"
   ]
  },
  {
   "cell_type": "code",
   "execution_count": 10,
   "metadata": {},
   "outputs": [],
   "source": [
    "# Setting static parameters\n",
    "requestCheckProgress = 0\n",
    "progressStatus = \"in progress\"\n",
    "baseUrl = \"https://{0}.qualtrics.com/API/v3/responseexports/\".format(dataCenter)\n",
    "headers = {\n",
    "    \"content-type\": \"application/json\",\n",
    "    \"x-api-token\": apiToken,\n",
    "    }"
   ]
  },
  {
   "cell_type": "code",
   "execution_count": 17,
   "metadata": {},
   "outputs": [
    {
     "name": "stdout",
     "output_type": "stream",
     "text": [
      "{\"result\":{\"id\":\"ES_7jmvginq0rm2d0opgett4ic7e2\"},\"meta\":{\"httpStatus\":\"200 - OK\",\"requestId\":\"53f36bc5-de3c-44d8-9ba4-a6a38ab69399\"}}\n",
      "SV_bsl9vF012E6Thbv done!\n",
      "{\"result\":{\"id\":\"ES_tctgimima5kc1h7f5gqjl51bt5\"},\"meta\":{\"httpStatus\":\"200 - OK\",\"requestId\":\"0118250f-6191-4493-9780-19fbc9691044\"}}\n",
      "SV_bBNxUVhoGFcyKot done!\n",
      "{\"result\":{\"id\":\"ES_caf1bg9fi018q3ukfmkhadkbja\"},\"meta\":{\"httpStatus\":\"200 - OK\",\"requestId\":\"0a926ba3-0e34-428a-b7c7-78aaaefa2c46\"}}\n",
      "SV_2gAX1ty1UjOeKBT done!\n",
      "{\"result\":{\"id\":\"ES_k3dd9mjg4s1f12j8e3e5k2mv68\"},\"meta\":{\"httpStatus\":\"200 - OK\",\"requestId\":\"9e6d44cb-662a-4812-bc3c-75ca0dcf90f0\"}}\n",
      "SV_d4o0ZLBDB8GxpwV done!\n",
      "All done!\n"
     ]
    }
   ],
   "source": [
    "for surveyId in surveyIdList:\n",
    "    # Step 1: Creating Data Export\n",
    "    downloadRequestUrl = baseUrl\n",
    "    downloadRequestPayload = '{\"format\":\"' + fileFormat + '\",\"surveyId\":\"' + surveyId + '\"}'\n",
    "    downloadRequestResponse = requests.request(\"POST\", downloadRequestUrl, data=downloadRequestPayload, headers=headers)\n",
    "    progressId = downloadRequestResponse.json()[\"result\"][\"id\"]\n",
    "    print(downloadRequestResponse.text)\n",
    "    \n",
    "    # Step 2: Checking on Data Export Progress and waiting until export is ready\n",
    "    while requestCheckProgress < 100 and progressStatus is not \"complete\":\n",
    "        requestCheckUrl = baseUrl + progressId\n",
    "        requestCheckResponse = requests.request(\"GET\", requestCheckUrl, headers=headers)\n",
    "        requestCheckProgress = requestCheckResponse.json()[\"result\"][\"percentComplete\"]\n",
    "        print(\"Download is \" + str(requestCheckProgress) + \"% complete\")\n",
    "    \n",
    "    # Step 3: Downloading file\n",
    "    requestDownloadUrl = baseUrl + progressId + '/file'\n",
    "    requestDownload = requests.request(\"GET\", requestDownloadUrl, headers=headers, stream=True)\n",
    "    \n",
    "    # Step 4: Unzipping the file\n",
    "    zipfile.ZipFile(io.BytesIO(requestDownload.content)).extractall(output_dir)\n",
    "    print(surveyId,'done!')\n",
    "print('All done!')"
   ]
  }
 ],
 "metadata": {
  "kernelspec": {
   "display_name": "Python 3",
   "language": "python",
   "name": "python3"
  },
  "language_info": {
   "codemirror_mode": {
    "name": "ipython",
    "version": 3
   },
   "file_extension": ".py",
   "mimetype": "text/x-python",
   "name": "python",
   "nbconvert_exporter": "python",
   "pygments_lexer": "ipython3",
   "version": "3.7.0"
  }
 },
 "nbformat": 4,
 "nbformat_minor": 2
}
