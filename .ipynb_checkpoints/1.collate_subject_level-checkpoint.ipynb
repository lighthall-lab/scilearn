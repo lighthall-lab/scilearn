{
 "cells": [
  {
   "cell_type": "code",
   "execution_count": 1,
   "metadata": {},
   "outputs": [],
   "source": [
    "import os\n",
    "import pandas as pd\n",
    "import numpy as np"
   ]
  },
  {
   "cell_type": "code",
   "execution_count": 2,
   "metadata": {},
   "outputs": [],
   "source": [
    "source_dir = os.path.join('..','sourcedata')\n",
    "derivs_dir = os.path.join('..','derivatives')"
   ]
  },
  {
   "cell_type": "code",
   "execution_count": 17,
   "metadata": {},
   "outputs": [],
   "source": [
    "not_pilot = lambda sub: (sub.startswith('1') or sub.startswith('2'))"
   ]
  },
  {
   "cell_type": "code",
   "execution_count": 47,
   "metadata": {},
   "outputs": [],
   "source": [
    "nb_frames=[]\n",
    "ps_frames=[]"
   ]
  },
  {
   "cell_type": "code",
   "execution_count": 48,
   "metadata": {},
   "outputs": [
    {
     "name": "stdout",
     "output_type": "stream",
     "text": [
      "..\\sourcedata\\sub-101\\sub-101_task-nback_beh.csv\n",
      "..\\sourcedata\\sub-101\\sub-101_task-procspeed_run-1_beh.csv\n",
      "..\\sourcedata\\sub-102\\sub-102_task-nback_beh.csv\n",
      "..\\sourcedata\\sub-102\\sub-102_task-procspeed_run-1_beh.csv\n",
      "..\\sourcedata\\sub-103\\sub-103_task-nback_beh.csv\n",
      "..\\sourcedata\\sub-103\\sub-103_task-procspeed_run-1_beh.csv\n",
      "..\\sourcedata\\sub-104\\sub-104_task-nback_beh.csv\n",
      "..\\sourcedata\\sub-104\\sub-104_task-procspeed_run-1_beh.csv\n",
      "..\\sourcedata\\sub-105\\sub-105_task-nback_beh.csv\n",
      "..\\sourcedata\\sub-105\\sub-105_task-procspeed_run-1_beh.csv\n",
      "..\\sourcedata\\sub-106\\sub-106_task-nback_beh.csv\n",
      "..\\sourcedata\\sub-106\\sub-106_task-procspeed_run-1_beh.csv\n",
      "..\\sourcedata\\sub-107\\sub-107_task-nback_beh.csv\n",
      "..\\sourcedata\\sub-107\\sub-107_task-procspeed_run-1_beh.csv\n",
      "..\\sourcedata\\sub-108\\sub-108_task-nback_beh.csv\n",
      "..\\sourcedata\\sub-108\\sub-108_task-procspeed_run-1_beh.csv\n",
      "..\\sourcedata\\sub-109\\sub-109_task-nback_beh.csv\n",
      "..\\sourcedata\\sub-109\\sub-109_task-procspeed_run-1_beh.csv\n",
      "..\\sourcedata\\sub-110\\sub-110_task-nback_beh.csv\n",
      "..\\sourcedata\\sub-110\\sub-110_task-procspeed_run-1_beh.csv\n",
      "..\\sourcedata\\sub-111\\sub-111_task-nback_beh.csv\n",
      "..\\sourcedata\\sub-111\\sub-111_task-procspeed_run-1_beh.csv\n",
      "..\\sourcedata\\sub-112\\sub-112_task-nback_beh.csv\n",
      "..\\sourcedata\\sub-112\\sub-112_task-procspeed_run-1_beh.csv\n",
      "..\\sourcedata\\sub-113\\sub-113_task-nback_beh.csv\n",
      "..\\sourcedata\\sub-113\\sub-113_task-procspeed_run-1_beh.csv\n",
      "..\\sourcedata\\sub-114\\sub-114_task-nback_beh.csv\n",
      "..\\sourcedata\\sub-114\\sub-114_task-procspeed_run-1_beh.csv\n",
      "..\\sourcedata\\sub-115\\sub-115_task-nback_beh.csv\n",
      "..\\sourcedata\\sub-115\\sub-115_task-procspeed_run-1_beh.csv\n",
      "..\\sourcedata\\sub-116\\sub-116_task-nback_beh.csv\n",
      "..\\sourcedata\\sub-116\\sub-116_task-procspeed_run-1_beh.csv\n",
      "..\\sourcedata\\sub-117\\sub-117_task-nback_beh.csv\n",
      "..\\sourcedata\\sub-117\\sub-117_task-procspeed_run-1_beh.csv\n",
      "..\\sourcedata\\sub-118\\sub-118_task-nback_beh.csv\n",
      "..\\sourcedata\\sub-118\\sub-118_task-procspeed_run-1_beh.csv\n",
      "..\\sourcedata\\sub-119\\sub-119_task-nback_beh.csv\n",
      "..\\sourcedata\\sub-119\\sub-119_task-procspeed_run-1_beh.csv\n",
      "..\\sourcedata\\sub-120\\sub-120_task-nback_beh.csv\n",
      "..\\sourcedata\\sub-120\\sub-120_task-procspeed_run-1_beh.csv\n",
      "..\\sourcedata\\sub-121\\sub-121_task-nback_beh.csv\n",
      "..\\sourcedata\\sub-121\\sub-121_task-procspeed_run-1_beh.csv\n",
      "..\\sourcedata\\sub-122\\sub-122_task-nback_beh.csv\n",
      "..\\sourcedata\\sub-122\\sub-122_task-procspeed_run-1_beh.csv\n",
      "..\\sourcedata\\sub-125\\sub-125_task-nback_beh.csv\n",
      "..\\sourcedata\\sub-125\\sub-125_task-procspeed_run-1_beh.csv\n",
      "..\\sourcedata\\sub-126\\sub-126_task-nback_beh.csv\n",
      "..\\sourcedata\\sub-126\\sub-126_task-procspeed_run-1_beh.csv\n",
      "..\\sourcedata\\sub-127\\sub-127_task-nback_beh.csv\n",
      "..\\sourcedata\\sub-127\\sub-127_task-procspeed_run-1_beh.csv\n",
      "..\\sourcedata\\sub-201\\sub-201_task-nback_beh.csv\n",
      "..\\sourcedata\\sub-201\\sub-201_task-procspeed_run-1_beh.csv\n",
      "..\\sourcedata\\sub-203\\sub-203_task-nback_beh.csv\n",
      "..\\sourcedata\\sub-203\\sub-203_task-procspeed_run-1_beh.csv\n",
      "..\\sourcedata\\sub-204\\sub-204_task-nback_beh.csv\n",
      "..\\sourcedata\\sub-204\\sub-204_task-procspeed_run-1_beh.csv\n",
      "..\\sourcedata\\sub-205\\sub-205_task-nback_beh.csv\n",
      "..\\sourcedata\\sub-205\\sub-205_task-procspeed_run-1_beh.csv\n",
      "..\\sourcedata\\sub-206\\sub-206_task-nback_beh.csv\n",
      "..\\sourcedata\\sub-206\\sub-206_task-procspeed_run-1_beh.csv\n",
      "..\\sourcedata\\sub-207\\sub-207_task-nback_beh.csv\n",
      "..\\sourcedata\\sub-207\\sub-207_task-procspeed_run-1_beh.csv\n"
     ]
    }
   ],
   "source": [
    "for s in os.listdir(source_dir):\n",
    "    if s.startswith('sub-'):\n",
    "        sub_dir = os.path.join(source_dir,s)\n",
    "        sub = s.split('-')[1]\n",
    "        if not_pilot(sub):\n",
    "            for f in os.listdir(sub_dir):\n",
    "                fname = os.path.join(sub_dir,f)\n",
    "                if fname.endswith('.csv'):\n",
    "                    task = f.split('_')[1].split('-')[1]\n",
    "                    print(fname)\n",
    "                    df = pd.read_csv(fname)\n",
    "                    if task == 'nback': nb_frames.append(df)\n",
    "                    if task == 'procspeed': ps_frames.append(df)"
   ]
  },
  {
   "cell_type": "code",
   "execution_count": 51,
   "metadata": {},
   "outputs": [],
   "source": [
    "nback_data = pd.concat(nb_frames)\n",
    "procspd_data = pd.concat(ps_frames)"
   ]
  },
  {
   "cell_type": "code",
   "execution_count": 55,
   "metadata": {},
   "outputs": [],
   "source": [
    "fname = os.path.join(derivs_dir,'nback_data.csv')\n",
    "nback_data.to_csv(fname,index=False)"
   ]
  },
  {
   "cell_type": "code",
   "execution_count": 56,
   "metadata": {},
   "outputs": [],
   "source": [
    "fname = os.path.join(derivs_dir,'procspd_data.csv')\n",
    "procspd_data.to_csv(fname,index=False)"
   ]
  }
 ],
 "metadata": {
  "kernelspec": {
   "display_name": "Python 3",
   "language": "python",
   "name": "python3"
  },
  "language_info": {
   "codemirror_mode": {
    "name": "ipython",
    "version": 3
   },
   "file_extension": ".py",
   "mimetype": "text/x-python",
   "name": "python",
   "nbconvert_exporter": "python",
   "pygments_lexer": "ipython3",
   "version": "3.7.0"
  }
 },
 "nbformat": 4,
 "nbformat_minor": 2
}
