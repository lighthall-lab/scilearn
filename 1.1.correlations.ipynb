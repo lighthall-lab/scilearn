{
 "cells": [
  {
   "cell_type": "code",
   "execution_count": 1,
   "metadata": {},
   "outputs": [],
   "source": [
    "import os,pandas as pd, numpy as np"
   ]
  },
  {
   "cell_type": "code",
   "execution_count": 2,
   "metadata": {},
   "outputs": [],
   "source": [
    "source_dir = os.path.join('..','derivatives','all_data')"
   ]
  },
  {
   "cell_type": "code",
   "execution_count": 5,
   "metadata": {},
   "outputs": [
    {
     "data": {
      "text/html": [
       "<div>\n",
       "<style scoped>\n",
       "    .dataframe tbody tr th:only-of-type {\n",
       "        vertical-align: middle;\n",
       "    }\n",
       "\n",
       "    .dataframe tbody tr th {\n",
       "        vertical-align: top;\n",
       "    }\n",
       "\n",
       "    .dataframe thead th {\n",
       "        text-align: right;\n",
       "    }\n",
       "</style>\n",
       "<table border=\"1\" class=\"dataframe\">\n",
       "  <thead>\n",
       "    <tr style=\"text-align: right;\">\n",
       "      <th></th>\n",
       "      <th>sub</th>\n",
       "      <th>comp_change</th>\n",
       "      <th>nb_RT</th>\n",
       "      <th>nb_CoR</th>\n",
       "      <th>procspd_RT</th>\n",
       "      <th>NFCS_sum</th>\n",
       "      <th>TSSI_sum</th>\n",
       "      <th>vocab_sum</th>\n",
       "      <th>SciLit_sum</th>\n",
       "      <th>SciTude_sum</th>\n",
       "      <th>O1_sum</th>\n",
       "      <th>O2_sum</th>\n",
       "      <th>O3_sum</th>\n",
       "      <th>O4_sum</th>\n",
       "      <th>O5_sum</th>\n",
       "      <th>O6_sum</th>\n",
       "    </tr>\n",
       "  </thead>\n",
       "  <tbody>\n",
       "    <tr>\n",
       "      <th>0</th>\n",
       "      <td>101</td>\n",
       "      <td>3.0</td>\n",
       "      <td>779.888889</td>\n",
       "      <td>0.81250</td>\n",
       "      <td>308.500000</td>\n",
       "      <td>61.0</td>\n",
       "      <td>87</td>\n",
       "      <td>30.0</td>\n",
       "      <td>16</td>\n",
       "      <td>38</td>\n",
       "      <td>9.0</td>\n",
       "      <td>14.0</td>\n",
       "      <td>11.0</td>\n",
       "      <td>11.0</td>\n",
       "      <td>10.0</td>\n",
       "      <td>15.0</td>\n",
       "    </tr>\n",
       "    <tr>\n",
       "      <th>1</th>\n",
       "      <td>102</td>\n",
       "      <td>1.0</td>\n",
       "      <td>626.272727</td>\n",
       "      <td>0.59375</td>\n",
       "      <td>303.850000</td>\n",
       "      <td>48.0</td>\n",
       "      <td>83</td>\n",
       "      <td>26.0</td>\n",
       "      <td>16</td>\n",
       "      <td>39</td>\n",
       "      <td>17.0</td>\n",
       "      <td>13.0</td>\n",
       "      <td>14.0</td>\n",
       "      <td>17.0</td>\n",
       "      <td>15.0</td>\n",
       "      <td>13.0</td>\n",
       "    </tr>\n",
       "    <tr>\n",
       "      <th>2</th>\n",
       "      <td>103</td>\n",
       "      <td>6.0</td>\n",
       "      <td>618.571429</td>\n",
       "      <td>0.87500</td>\n",
       "      <td>289.850000</td>\n",
       "      <td>45.0</td>\n",
       "      <td>76</td>\n",
       "      <td>28.0</td>\n",
       "      <td>15</td>\n",
       "      <td>47</td>\n",
       "      <td>16.0</td>\n",
       "      <td>13.0</td>\n",
       "      <td>12.0</td>\n",
       "      <td>16.0</td>\n",
       "      <td>9.0</td>\n",
       "      <td>12.0</td>\n",
       "    </tr>\n",
       "    <tr>\n",
       "      <th>3</th>\n",
       "      <td>104</td>\n",
       "      <td>6.0</td>\n",
       "      <td>505.571429</td>\n",
       "      <td>0.87500</td>\n",
       "      <td>302.950000</td>\n",
       "      <td>69.0</td>\n",
       "      <td>97</td>\n",
       "      <td>28.0</td>\n",
       "      <td>16</td>\n",
       "      <td>31</td>\n",
       "      <td>17.0</td>\n",
       "      <td>13.0</td>\n",
       "      <td>12.0</td>\n",
       "      <td>14.0</td>\n",
       "      <td>11.0</td>\n",
       "      <td>11.0</td>\n",
       "    </tr>\n",
       "    <tr>\n",
       "      <th>4</th>\n",
       "      <td>105</td>\n",
       "      <td>1.0</td>\n",
       "      <td>742.913043</td>\n",
       "      <td>0.53125</td>\n",
       "      <td>391.052632</td>\n",
       "      <td>49.0</td>\n",
       "      <td>82</td>\n",
       "      <td>28.0</td>\n",
       "      <td>15</td>\n",
       "      <td>46</td>\n",
       "      <td>17.0</td>\n",
       "      <td>9.0</td>\n",
       "      <td>18.0</td>\n",
       "      <td>14.0</td>\n",
       "      <td>12.0</td>\n",
       "      <td>11.0</td>\n",
       "    </tr>\n",
       "  </tbody>\n",
       "</table>\n",
       "</div>"
      ],
      "text/plain": [
       "   sub  comp_change       nb_RT   nb_CoR  procspd_RT  NFCS_sum  TSSI_sum  \\\n",
       "0  101          3.0  779.888889  0.81250  308.500000      61.0        87   \n",
       "1  102          1.0  626.272727  0.59375  303.850000      48.0        83   \n",
       "2  103          6.0  618.571429  0.87500  289.850000      45.0        76   \n",
       "3  104          6.0  505.571429  0.87500  302.950000      69.0        97   \n",
       "4  105          1.0  742.913043  0.53125  391.052632      49.0        82   \n",
       "\n",
       "   vocab_sum  SciLit_sum  SciTude_sum  O1_sum  O2_sum  O3_sum  O4_sum  O5_sum  \\\n",
       "0       30.0          16           38     9.0    14.0    11.0    11.0    10.0   \n",
       "1       26.0          16           39    17.0    13.0    14.0    17.0    15.0   \n",
       "2       28.0          15           47    16.0    13.0    12.0    16.0     9.0   \n",
       "3       28.0          16           31    17.0    13.0    12.0    14.0    11.0   \n",
       "4       28.0          15           46    17.0     9.0    18.0    14.0    12.0   \n",
       "\n",
       "   O6_sum  \n",
       "0    15.0  \n",
       "1    13.0  \n",
       "2    12.0  \n",
       "3    11.0  \n",
       "4    11.0  "
      ]
     },
     "execution_count": 5,
     "metadata": {},
     "output_type": "execute_result"
    }
   ],
   "source": [
    "data = pd.read_csv(os.path.join(source_dir,'subject_level_data.csv'))\n",
    "data.head()"
   ]
  },
  {
   "cell_type": "markdown",
   "metadata": {},
   "source": [
    "# Correlations\n",
    "Pearson product-moment correlation coefficients"
   ]
  },
  {
   "cell_type": "code",
   "execution_count": 14,
   "metadata": {},
   "outputs": [
    {
     "data": {
      "text/plain": [
       "-0.08340205371537586"
      ]
     },
     "execution_count": 14,
     "metadata": {},
     "output_type": "execute_result"
    }
   ],
   "source": [
    "# Change in comprehension w/ N-Back corrected recognition\n",
    "data['comp_change'].corr(data['nb_CoR'])"
   ]
  },
  {
   "cell_type": "code",
   "execution_count": 15,
   "metadata": {},
   "outputs": [
    {
     "data": {
      "text/plain": [
       "-0.10627636522170417"
      ]
     },
     "execution_count": 15,
     "metadata": {},
     "output_type": "execute_result"
    }
   ],
   "source": [
    "# Change in comprehension w/ N-back RT\n",
    "data['comp_change'].corr(data['nb_RT'])"
   ]
  },
  {
   "cell_type": "code",
   "execution_count": 16,
   "metadata": {},
   "outputs": [
    {
     "data": {
      "text/plain": [
       "-0.4350566022648811"
      ]
     },
     "execution_count": 16,
     "metadata": {},
     "output_type": "execute_result"
    }
   ],
   "source": [
    "# Change in comprehension w/ Processing speed RT\n",
    "data['comp_change'].corr(data['procspd_RT'])"
   ]
  },
  {
   "cell_type": "code",
   "execution_count": 17,
   "metadata": {},
   "outputs": [
    {
     "data": {
      "text/plain": [
       "0.012848664824814233"
      ]
     },
     "execution_count": 17,
     "metadata": {},
     "output_type": "execute_result"
    }
   ],
   "source": [
    "# Change in comprehension w/ Need-for-cognition score\n",
    "data['comp_change'].corr(data['NFCS_sum'])"
   ]
  },
  {
   "cell_type": "code",
   "execution_count": 18,
   "metadata": {},
   "outputs": [
    {
     "data": {
      "text/plain": [
       "-0.05664188639374792"
      ]
     },
     "execution_count": 18,
     "metadata": {},
     "output_type": "execute_result"
    }
   ],
   "source": [
    "# Change in comprehension w/ TSSI score\n",
    "data['comp_change'].corr(data['TSSI_sum'])"
   ]
  },
  {
   "cell_type": "code",
   "execution_count": 19,
   "metadata": {},
   "outputs": [
    {
     "data": {
      "text/plain": [
       "-0.23328083156542823"
      ]
     },
     "execution_count": 19,
     "metadata": {},
     "output_type": "execute_result"
    }
   ],
   "source": [
    "# Change in comprehension w/ Shipley Vocab score\n",
    "data['comp_change'].corr(data['vocab_sum'])"
   ]
  },
  {
   "cell_type": "code",
   "execution_count": 20,
   "metadata": {},
   "outputs": [
    {
     "data": {
      "text/plain": [
       "0.0023030280268452516"
      ]
     },
     "execution_count": 20,
     "metadata": {},
     "output_type": "execute_result"
    }
   ],
   "source": [
    "# Change in comprehension w/ Science Literacy scores\n",
    "data['comp_change'].corr(data['SciLit_sum'])"
   ]
  },
  {
   "cell_type": "code",
   "execution_count": 21,
   "metadata": {},
   "outputs": [
    {
     "data": {
      "text/plain": [
       "-0.001161831270102483"
      ]
     },
     "execution_count": 21,
     "metadata": {},
     "output_type": "execute_result"
    }
   ],
   "source": [
    "# Change in comprehension w/ Science-Related Attitudes score\n",
    "data['comp_change'].corr(data['SciTude_sum'])"
   ]
  }
 ],
 "metadata": {
  "kernelspec": {
   "display_name": "Python 3",
   "language": "python",
   "name": "python3"
  },
  "language_info": {
   "codemirror_mode": {
    "name": "ipython",
    "version": 3
   },
   "file_extension": ".py",
   "mimetype": "text/x-python",
   "name": "python",
   "nbconvert_exporter": "python",
   "pygments_lexer": "ipython3",
   "version": "3.7.0"
  }
 },
 "nbformat": 4,
 "nbformat_minor": 2
}
