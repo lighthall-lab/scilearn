{
 "cells": [
  {
   "cell_type": "code",
   "execution_count": 1,
   "metadata": {},
   "outputs": [],
   "source": [
    "import os,pandas as pd, numpy as np"
   ]
  },
  {
   "cell_type": "code",
   "execution_count": 2,
   "metadata": {},
   "outputs": [],
   "source": [
    "source_dir = os.path.join('..','derivatives','all_data')"
   ]
  },
  {
   "cell_type": "code",
   "execution_count": 3,
   "metadata": {},
   "outputs": [
    {
     "data": {
      "text/html": [
       "<div>\n",
       "<style scoped>\n",
       "    .dataframe tbody tr th:only-of-type {\n",
       "        vertical-align: middle;\n",
       "    }\n",
       "\n",
       "    .dataframe tbody tr th {\n",
       "        vertical-align: top;\n",
       "    }\n",
       "\n",
       "    .dataframe thead th {\n",
       "        text-align: right;\n",
       "    }\n",
       "</style>\n",
       "<table border=\"1\" class=\"dataframe\">\n",
       "  <thead>\n",
       "    <tr style=\"text-align: right;\">\n",
       "      <th></th>\n",
       "      <th>sub</th>\n",
       "      <th>Condition</th>\n",
       "      <th>Age</th>\n",
       "      <th>Gender</th>\n",
       "      <th>EduYears</th>\n",
       "      <th>SciEdu_HS</th>\n",
       "      <th>SciEdu_UGrad</th>\n",
       "      <th>SciEdu_Grad</th>\n",
       "      <th>comp_change</th>\n",
       "      <th>nb_RT</th>\n",
       "      <th>...</th>\n",
       "      <th>TSSI_sum</th>\n",
       "      <th>vocab_sum</th>\n",
       "      <th>SciLit_sum</th>\n",
       "      <th>SciTude_sum</th>\n",
       "      <th>O1_sum</th>\n",
       "      <th>O2_sum</th>\n",
       "      <th>O3_sum</th>\n",
       "      <th>O4_sum</th>\n",
       "      <th>O5_sum</th>\n",
       "      <th>O6_sum</th>\n",
       "    </tr>\n",
       "  </thead>\n",
       "  <tbody>\n",
       "    <tr>\n",
       "      <th>0</th>\n",
       "      <td>101</td>\n",
       "      <td>1.0</td>\n",
       "      <td>20.0</td>\n",
       "      <td>2.0</td>\n",
       "      <td>14.0</td>\n",
       "      <td>4</td>\n",
       "      <td>7</td>\n",
       "      <td>0.0</td>\n",
       "      <td>3.0</td>\n",
       "      <td>779.888889</td>\n",
       "      <td>...</td>\n",
       "      <td>87</td>\n",
       "      <td>30.0</td>\n",
       "      <td>16</td>\n",
       "      <td>38</td>\n",
       "      <td>9.0</td>\n",
       "      <td>14.0</td>\n",
       "      <td>11.0</td>\n",
       "      <td>11.0</td>\n",
       "      <td>10.0</td>\n",
       "      <td>15.0</td>\n",
       "    </tr>\n",
       "    <tr>\n",
       "      <th>1</th>\n",
       "      <td>102</td>\n",
       "      <td>2.0</td>\n",
       "      <td>19.0</td>\n",
       "      <td>2.0</td>\n",
       "      <td>12.0</td>\n",
       "      <td>3</td>\n",
       "      <td>3</td>\n",
       "      <td>0.0</td>\n",
       "      <td>1.0</td>\n",
       "      <td>626.272727</td>\n",
       "      <td>...</td>\n",
       "      <td>83</td>\n",
       "      <td>26.0</td>\n",
       "      <td>16</td>\n",
       "      <td>39</td>\n",
       "      <td>17.0</td>\n",
       "      <td>13.0</td>\n",
       "      <td>14.0</td>\n",
       "      <td>17.0</td>\n",
       "      <td>15.0</td>\n",
       "      <td>13.0</td>\n",
       "    </tr>\n",
       "    <tr>\n",
       "      <th>2</th>\n",
       "      <td>103</td>\n",
       "      <td>3.0</td>\n",
       "      <td>18.0</td>\n",
       "      <td>1.0</td>\n",
       "      <td>12.0</td>\n",
       "      <td>3</td>\n",
       "      <td>0</td>\n",
       "      <td>0.0</td>\n",
       "      <td>6.0</td>\n",
       "      <td>618.571429</td>\n",
       "      <td>...</td>\n",
       "      <td>76</td>\n",
       "      <td>28.0</td>\n",
       "      <td>15</td>\n",
       "      <td>47</td>\n",
       "      <td>16.0</td>\n",
       "      <td>13.0</td>\n",
       "      <td>12.0</td>\n",
       "      <td>16.0</td>\n",
       "      <td>9.0</td>\n",
       "      <td>12.0</td>\n",
       "    </tr>\n",
       "    <tr>\n",
       "      <th>3</th>\n",
       "      <td>104</td>\n",
       "      <td>1.0</td>\n",
       "      <td>18.0</td>\n",
       "      <td>1.0</td>\n",
       "      <td>12.0</td>\n",
       "      <td>4</td>\n",
       "      <td>0</td>\n",
       "      <td>0.0</td>\n",
       "      <td>6.0</td>\n",
       "      <td>505.571429</td>\n",
       "      <td>...</td>\n",
       "      <td>97</td>\n",
       "      <td>28.0</td>\n",
       "      <td>16</td>\n",
       "      <td>31</td>\n",
       "      <td>17.0</td>\n",
       "      <td>13.0</td>\n",
       "      <td>12.0</td>\n",
       "      <td>14.0</td>\n",
       "      <td>11.0</td>\n",
       "      <td>11.0</td>\n",
       "    </tr>\n",
       "    <tr>\n",
       "      <th>4</th>\n",
       "      <td>105</td>\n",
       "      <td>2.0</td>\n",
       "      <td>18.0</td>\n",
       "      <td>1.0</td>\n",
       "      <td>12.0</td>\n",
       "      <td>6</td>\n",
       "      <td>0</td>\n",
       "      <td>0.0</td>\n",
       "      <td>1.0</td>\n",
       "      <td>742.913043</td>\n",
       "      <td>...</td>\n",
       "      <td>82</td>\n",
       "      <td>28.0</td>\n",
       "      <td>15</td>\n",
       "      <td>46</td>\n",
       "      <td>17.0</td>\n",
       "      <td>9.0</td>\n",
       "      <td>18.0</td>\n",
       "      <td>14.0</td>\n",
       "      <td>12.0</td>\n",
       "      <td>11.0</td>\n",
       "    </tr>\n",
       "  </tbody>\n",
       "</table>\n",
       "<p>5 rows × 23 columns</p>\n",
       "</div>"
      ],
      "text/plain": [
       "   sub  Condition   Age  Gender  EduYears SciEdu_HS SciEdu_UGrad  SciEdu_Grad  \\\n",
       "0  101        1.0  20.0     2.0      14.0         4            7          0.0   \n",
       "1  102        2.0  19.0     2.0      12.0         3            3          0.0   \n",
       "2  103        3.0  18.0     1.0      12.0         3            0          0.0   \n",
       "3  104        1.0  18.0     1.0      12.0         4            0          0.0   \n",
       "4  105        2.0  18.0     1.0      12.0         6            0          0.0   \n",
       "\n",
       "   comp_change       nb_RT   ...    TSSI_sum  vocab_sum  SciLit_sum  \\\n",
       "0          3.0  779.888889   ...          87       30.0          16   \n",
       "1          1.0  626.272727   ...          83       26.0          16   \n",
       "2          6.0  618.571429   ...          76       28.0          15   \n",
       "3          6.0  505.571429   ...          97       28.0          16   \n",
       "4          1.0  742.913043   ...          82       28.0          15   \n",
       "\n",
       "   SciTude_sum  O1_sum  O2_sum  O3_sum  O4_sum  O5_sum  O6_sum  \n",
       "0           38     9.0    14.0    11.0    11.0    10.0    15.0  \n",
       "1           39    17.0    13.0    14.0    17.0    15.0    13.0  \n",
       "2           47    16.0    13.0    12.0    16.0     9.0    12.0  \n",
       "3           31    17.0    13.0    12.0    14.0    11.0    11.0  \n",
       "4           46    17.0     9.0    18.0    14.0    12.0    11.0  \n",
       "\n",
       "[5 rows x 23 columns]"
      ]
     },
     "execution_count": 3,
     "metadata": {},
     "output_type": "execute_result"
    }
   ],
   "source": [
    "data = pd.read_csv(os.path.join(source_dir,'subject_level_data.csv'))\n",
    "data.head()"
   ]
  },
  {
   "cell_type": "markdown",
   "metadata": {},
   "source": [
    "# Correlations"
   ]
  },
  {
   "cell_type": "markdown",
   "metadata": {},
   "source": [
    "### Pearson\n",
    "Pearson product-moment correlation coefficients"
   ]
  },
  {
   "cell_type": "code",
   "execution_count": 20,
   "metadata": {},
   "outputs": [
    {
     "data": {
      "text/plain": [
       "sub           -0.210294\n",
       "Condition      0.232887\n",
       "Age           -0.193054\n",
       "Gender        -0.077340\n",
       "EduYears      -0.286348\n",
       "SciEdu_Grad   -0.230621\n",
       "comp_change    1.000000\n",
       "nb_RT         -0.106276\n",
       "nb_CoR        -0.083402\n",
       "procspd_RT    -0.435057\n",
       "NFCS_sum       0.012849\n",
       "TSSI_sum      -0.056642\n",
       "vocab_sum     -0.233281\n",
       "SciLit_sum     0.002303\n",
       "SciTude_sum   -0.001162\n",
       "O1_sum        -0.119793\n",
       "O2_sum         0.264519\n",
       "O3_sum         0.125986\n",
       "O4_sum         0.153985\n",
       "O5_sum        -0.033868\n",
       "O6_sum         0.049419\n",
       "Name: comp_change, dtype: float64"
      ]
     },
     "execution_count": 20,
     "metadata": {},
     "output_type": "execute_result"
    }
   ],
   "source": [
    "data.corr('pearson')['comp_change']"
   ]
  },
  {
   "cell_type": "markdown",
   "metadata": {},
   "source": [
    "### Spearman"
   ]
  },
  {
   "cell_type": "code",
   "execution_count": 19,
   "metadata": {},
   "outputs": [
    {
     "data": {
      "text/plain": [
       "sub           -0.189875\n",
       "Condition      0.248082\n",
       "Age           -0.294829\n",
       "Gender        -0.073469\n",
       "EduYears      -0.249546\n",
       "SciEdu_Grad   -0.169673\n",
       "comp_change    1.000000\n",
       "nb_RT         -0.144086\n",
       "nb_CoR        -0.020962\n",
       "procspd_RT    -0.339263\n",
       "NFCS_sum       0.014628\n",
       "TSSI_sum      -0.125584\n",
       "vocab_sum     -0.236654\n",
       "SciLit_sum    -0.069300\n",
       "SciTude_sum    0.009474\n",
       "O1_sum        -0.054273\n",
       "O2_sum         0.273664\n",
       "O3_sum         0.182744\n",
       "O4_sum         0.207234\n",
       "O5_sum        -0.051202\n",
       "O6_sum         0.018891\n",
       "Name: comp_change, dtype: float64"
      ]
     },
     "execution_count": 19,
     "metadata": {},
     "output_type": "execute_result"
    }
   ],
   "source": [
    "data.corr('spearman')['comp_change']"
   ]
  }
 ],
 "metadata": {
  "kernelspec": {
   "display_name": "Python 3",
   "language": "python",
   "name": "python3"
  },
  "language_info": {
   "codemirror_mode": {
    "name": "ipython",
    "version": 3
   },
   "file_extension": ".py",
   "mimetype": "text/x-python",
   "name": "python",
   "nbconvert_exporter": "python",
   "pygments_lexer": "ipython3",
   "version": "3.7.0"
  }
 },
 "nbformat": 4,
 "nbformat_minor": 2
}
