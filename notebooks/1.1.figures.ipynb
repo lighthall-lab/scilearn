{
 "cells": [
  {
   "cell_type": "markdown",
   "metadata": {},
   "source": [
    "Module config"
   ]
  },
  {
   "cell_type": "code",
   "execution_count": null,
   "metadata": {},
   "outputs": [],
   "source": [
    "from pathlib import Path\n",
    "\n",
    "import pandas as pd\n",
    "import numpy as np\n",
    "\n",
    "import scipy.stats as sp\n",
    "\n",
    "import seaborn as sns\n",
    "import matplotlib as mpl\n",
    "import matplotlib.pyplot as plt\n",
    "from pylab import savefig"
   ]
  },
  {
   "cell_type": "markdown",
   "metadata": {},
   "source": [
    "Seaborn config"
   ]
  },
  {
   "cell_type": "code",
   "execution_count": null,
   "metadata": {},
   "outputs": [],
   "source": [
    "%matplotlib inline\n",
    "sns.set(style='white')"
   ]
  },
  {
   "cell_type": "markdown",
   "metadata": {},
   "source": [
    "Filesystem config"
   ]
  },
  {
   "cell_type": "code",
   "execution_count": null,
   "metadata": {},
   "outputs": [],
   "source": [
    "derivs = Path().absolute().parents[1] / 'derivatives'\n",
    "source_dir = derivs / '0.4.joined'\n",
    "alt_source_dir = derivs / '20190218'\n",
    "figures_dir = derivs / 'figures'"
   ]
  },
  {
   "cell_type": "markdown",
   "metadata": {},
   "source": [
    "Import data"
   ]
  },
  {
   "cell_type": "code",
   "execution_count": null,
   "metadata": {},
   "outputs": [],
   "source": [
    "data = pd.read_csv( source_dir / 'all_subject_level.csv' )\n",
    "data = pd.read_csv( alt_source_dir / 'all_subject_level_bound.csv')"
   ]
  },
  {
   "cell_type": "markdown",
   "metadata": {},
   "source": [
    "# Set standard variables to be analyzed"
   ]
  },
  {
   "cell_type": "code",
   "execution_count": null,
   "metadata": {},
   "outputs": [],
   "source": [
    "varset = {\n",
    "    'dvars': [\n",
    "        'comp_t1_bound',\n",
    "        'comp_t2_bound',\n",
    "        'comp_change_bound',\n",
    "    ],\n",
    "    'ivars': [\n",
    "        'SciLit_sum_bound', \n",
    "        'vocab_sum_bound',\n",
    "        'NFCS_sum_bound', \n",
    "        'TSSI_sum_bound', \n",
    "        'procspd_RT_bound',\n",
    "        'nb_RT_bound',\n",
    "    ],\n",
    "}\n",
    "\n",
    "ivars = list(varset['ivars'])\n",
    "dvars = list(varset['dvars'])"
   ]
  },
  {
   "cell_type": "markdown",
   "metadata": {},
   "source": [
    "# Demographics"
   ]
  },
  {
   "cell_type": "code",
   "execution_count": null,
   "metadata": {},
   "outputs": [],
   "source": [
    "(data.groupby(['AgeGroup', 'Condition'], as_index=False)\n",
    "    .agg({'sub':'count', 'Age':'mean', 'Gender':'mean'})\n",
    "    .rename({'sub':'Count', 'Age':'Mean Age', 'Gender':'% Female'}, axis=1))"
   ]
  },
  {
   "cell_type": "code",
   "execution_count": null,
   "metadata": {},
   "outputs": [],
   "source": [
    "(data.groupby(['AgeGroup', 'Condition'], as_index=False)\n",
    "    .agg({'sub':'count', 'comp_change':'mean', 'comp_t1':'mean', 'comp_t2':'mean'})\n",
    "    .rename({'sub':'Count', 'comp_t1':'T1', 'comp_t2':'T2', 'comp_change':'Mean Diff'}, axis=1))"
   ]
  },
  {
   "cell_type": "raw",
   "metadata": {},
   "source": [
    "# Group comparisons"
   ]
  },
  {
   "cell_type": "raw",
   "metadata": {},
   "source": [
    "vars_of_interest = ['comp_t1', 'comp_t2', 'comp_change', 'nb_CoR', 'nb_RT', 'procspd_RT',\n",
    "                    'NFCS_sum','TSSI_sum', 'vocab_sum','SciLit_sum',\n",
    "                    'SciTudeA_sum','SciTudeL_sum','SciTudeS_sum']"
   ]
  },
  {
   "cell_type": "raw",
   "metadata": {},
   "source": [
    "grps_of_interest = ['Condition','AgeGroup',['AgeGroup','Condition']]"
   ]
  },
  {
   "cell_type": "raw",
   "metadata": {},
   "source": [
    "# Correlations\n",
    "We need to drop all missing data listwise. SPSS does this pairwise for the correlations, but I'm not sure how exactly to replicate that. If we find a way to, I would prefer not to destroy data unnecessarily here."
   ]
  },
  {
   "cell_type": "raw",
   "metadata": {},
   "source": [
    "slim_data = data[['sub','AgeGroup','Condition']+vars_of_interest].dropna()"
   ]
  },
  {
   "cell_type": "raw",
   "metadata": {},
   "source": [
    "## Correlation Matrices"
   ]
  },
  {
   "cell_type": "raw",
   "metadata": {},
   "source": [
    "Define functions to create the correlation & significance tables and matrices"
   ]
  },
  {
   "cell_type": "raw",
   "metadata": {},
   "source": [
    "def corr_table(df):\n",
    "    corr_df = pd.DataFrame()\n",
    "    for c in vars_of_interest:\n",
    "        for d in vars_of_interest:\n",
    "            corr_df.loc[c,d] = sp.pearsonr(df[c],df[d])[0]\n",
    "    return(corr_df)\n",
    "\n",
    "def sig_table(df):\n",
    "    sig_df = pd.DataFrame()\n",
    "    for c in vars_of_interest:\n",
    "        for d in vars_of_interest:\n",
    "            sig_df.loc[c,d] = sp.pearsonr(df[c],df[d])[1]\n",
    "    return(sig_df)"
   ]
  },
  {
   "cell_type": "raw",
   "metadata": {},
   "source": [
    "def matrix_mask(df):\n",
    "    mask = np.zeros_like(df)\n",
    "    mask[np.triu_indices_from(mask)] = True\n",
    "    plt.figure(figsize=(16,5))\n",
    "    return(mask)"
   ]
  },
  {
   "cell_type": "raw",
   "metadata": {},
   "source": [
    "def correlation_matrix(df,title):\n",
    "    mask = matrix_mask(df)\n",
    "    fig = sns.heatmap(df, mask=mask, annot=True, cmap='Spectral',\n",
    "                      fmt='.3f', linewidths=1, center=0)\n",
    "    fig.set_title(title+'\\nCorrelation Coefficients')\n",
    "    return(fig)\n",
    "\n",
    "def significance_matrix(df,title):\n",
    "    mask = matrix_mask(df)\n",
    "    myColors = (\n",
    "        (0.4, 0.0, 0.0, 1.00),(0.6, 0.0, 0.0, 0.85),(0.8, 0.0, 0.0, 0.70),(1.0, 0.0, 0.0, 0.55),\n",
    "        (1.0, 0.0, 0.0, 0.40),(1.0, 0.0, 0.0, 0.40),(1.0, 0.0, 0.0, 0.40),(1.0, 0.0, 0.0, 0.40),\n",
    "        (1.0, 0.0, 0.0, 0.40),(1.0, 0.0, 0.0, 0.40),(1.0, 0.0, 0.0, 0.40),(1.0, 0.0, 0.0, 0.40),\n",
    "        (1.0, 0.0, 0.0, 0.40),(1.0, 0.0, 0.0, 0.40),(1.0, 0.0, 0.0, 0.40),(1.0, 0.0, 0.0, 0.40),\n",
    "        (1.0, 0.0, 0.0, 0.40),(1.0, 0.0, 0.0, 0.40),(1.0, 0.0, 0.0, 0.40),(1.0, 0.0, 0.0, 0.40),\n",
    "    )\n",
    "    cmap = mpl.colors.LinearSegmentedColormap.from_list('Custom', myColors, len(myColors))\n",
    "    fig = sns.heatmap(df, mask=mask, annot=True, cmap=cmap,\n",
    "                fmt='.3f', linewidths=1, center=0.5\n",
    "               )\n",
    "    fig.set_title(title+'\\nCorrelation Significance')\n",
    "    return(fig)"
   ]
  },
  {
   "cell_type": "raw",
   "metadata": {},
   "source": [
    "### All AgeGroups,Conditions"
   ]
  },
  {
   "cell_type": "raw",
   "metadata": {},
   "source": [
    "corr_df = corr_table(slim_data)\n",
    "sig_df = sig_table(slim_data)"
   ]
  },
  {
   "cell_type": "raw",
   "metadata": {},
   "source": [
    "fpath = Path('..') / '..' / 'derivatives' / 'figures' / 'corr_coeff_all.png'\n",
    "fig = correlation_matrix(corr_df,'All AgeGroups & Conditions')\n",
    "fig.get_figure().savefig(fpath, bbox_inches='tight')"
   ]
  },
  {
   "cell_type": "raw",
   "metadata": {},
   "source": [
    "fpath = Path('..') / '..' / 'derivatives' / 'figures' / 'corr_sig_all.png'\n",
    "fig = significance_matrix(sig_df,'All AgeGroups & Conditions')\n",
    "fig.get_figure().savefig(fpath, bbox_inches='tight')"
   ]
  },
  {
   "cell_type": "raw",
   "metadata": {},
   "source": [
    "### By AgeGroup"
   ]
  },
  {
   "cell_type": "raw",
   "metadata": {},
   "source": [
    "ya_data = slim_data[slim_data['AgeGroup'] == 'YA']\n",
    "oa_data = slim_data[slim_data['AgeGroup'] == 'OA']"
   ]
  },
  {
   "cell_type": "raw",
   "metadata": {},
   "source": [
    "ya_corr_df = corr_table(ya_data)\n",
    "ya_sig_df = sig_table(ya_data)\n",
    "oa_corr_df = corr_table(oa_data)\n",
    "oa_sig_df = sig_table(oa_data)"
   ]
  },
  {
   "cell_type": "raw",
   "metadata": {},
   "source": [
    "fig = correlation_matrix(ya_corr_df,'Young Adults')\n",
    "fpath = Path('..') / '..' / 'derivatives' / 'figures' / 'corr_coeff_ya.png'\n",
    "fig.get_figure().savefig(fpath, bbox_inches='tight')"
   ]
  },
  {
   "cell_type": "raw",
   "metadata": {},
   "source": [
    "fig = significance_matrix(ya_sig_df,'Young Adults')\n",
    "fpath = Path('..') / '..' / 'derivatives' / 'figures' / 'corr_sig_ya.png'\n",
    "fig.get_figure().savefig(fpath, bbox_inches='tight')"
   ]
  },
  {
   "cell_type": "raw",
   "metadata": {},
   "source": [
    "fig = correlation_matrix(oa_corr_df,'Older Adults')\n",
    "fpath = Path('..') / '..' / 'derivatives' / 'figures' / 'corr_coeff_oa.png'\n",
    "fig.get_figure().savefig(fpath, bbox_inches='tight')"
   ]
  },
  {
   "cell_type": "raw",
   "metadata": {},
   "source": [
    "fig = significance_matrix(oa_sig_df,'Older Adults')\n",
    "fpath = Path('..') / '..' / 'derivatives' / 'figures' / 'corr_sig_oa.png'\n",
    "fig.get_figure().savefig(fpath, bbox_inches='tight')"
   ]
  },
  {
   "cell_type": "raw",
   "metadata": {},
   "source": [
    "### By Condition"
   ]
  },
  {
   "cell_type": "raw",
   "metadata": {},
   "source": [
    "annotated_data = slim_data[slim_data['Condition'] == 'Annotated']\n",
    "original_data = slim_data[slim_data['Condition'] == 'Original']\n",
    "video_data = slim_data[slim_data['Condition'] == 'Video']"
   ]
  },
  {
   "cell_type": "raw",
   "metadata": {},
   "source": [
    "annotated_corr_df = corr_table(annotated_data)\n",
    "annotated_sig_df = sig_table(annotated_data)\n",
    "\n",
    "original_corr_df = corr_table(original_data)\n",
    "original_sig_df = sig_table(original_data)\n",
    "\n",
    "video_corr_df = corr_table(video_data)\n",
    "video_sig_df = sig_table(video_data)"
   ]
  },
  {
   "cell_type": "raw",
   "metadata": {},
   "source": [
    "fig = correlation_matrix(annotated_corr_df,'Annotated Condition')\n",
    "fpath = Path('..') / '..' / 'derivatives' / 'figures' / 'corr_coeff_annot.png'\n",
    "fig.get_figure().savefig(fpath, bbox_inches='tight')"
   ]
  },
  {
   "cell_type": "raw",
   "metadata": {},
   "source": [
    "fig = significance_matrix(annotated_sig_df,'Annotated Condition')\n",
    "fpath = Path('..') / '..' / 'derivatives' / 'figures' / 'corr_sig_annot.png'\n",
    "fig.get_figure().savefig(fpath, bbox_inches='tight')"
   ]
  },
  {
   "cell_type": "raw",
   "metadata": {},
   "source": [
    "fig = correlation_matrix(original_corr_df,'Original Condition')\n",
    "fpath = Path('..') / '..' / 'derivatives' / 'figures' / 'corr_coeff_orig.png'\n",
    "fig.get_figure().savefig(fpath, bbox_inches='tight')"
   ]
  },
  {
   "cell_type": "raw",
   "metadata": {},
   "source": [
    "fig = significance_matrix(original_sig_df,'Original Condition')\n",
    "fpath = Path('..') / '..' / 'derivatives' / 'figures' / 'corr_sig_orig.png'\n",
    "fig.get_figure().savefig(fpath, bbox_inches='tight')"
   ]
  },
  {
   "cell_type": "raw",
   "metadata": {},
   "source": [
    "fig = correlation_matrix(video_corr_df,'Video Condition')\n",
    "fpath = Path('..') / '..' / 'derivatives' / 'figures' / 'corr_coeff_video.png'\n",
    "fig.get_figure().savefig(fpath, bbox_inches='tight')"
   ]
  },
  {
   "cell_type": "raw",
   "metadata": {},
   "source": [
    "fig = significance_matrix(video_sig_df,'Video Condition')\n",
    "fpath = Path('..') / '..' / 'derivatives' / 'figures' / 'corr_sig_video.png'\n",
    "fig.get_figure().savefig(fpath, bbox_inches='tight')"
   ]
  },
  {
   "cell_type": "raw",
   "metadata": {},
   "source": [
    "## Correlograms"
   ]
  },
  {
   "cell_type": "raw",
   "metadata": {},
   "source": [
    "fpath = Path('..') / '..' / 'derivatives' / 'figures' / 'correlogram_AgeGroup.png'\n",
    "plt.figure(figsize=(16,5))\n",
    "df = slim_data[vars_of_interest+['AgeGroup','Condition']]\n",
    "fig = sns.pairplot(df,hue='AgeGroup')\n",
    "# for i,j in zip(*np.triu_indices_from(fig.axes, 1)):\n",
    "#     fig.axes[i, j].set_visible(False)\n",
    "fig.savefig(fpath, bbox_inches='tight')"
   ]
  },
  {
   "cell_type": "raw",
   "metadata": {},
   "source": [
    "fpath = Path('..') / '..' / 'derivatives' / 'figures' / 'correlogram_Condition.png'\n",
    "plt.figure(figsize=(16,5))\n",
    "df = slim_data[vars_of_interest+['AgeGroup','Condition']]\n",
    "fig = sns.pairplot(df,hue='Condition')\n",
    "# for i,j in zip(*np.triu_indices_from(fig.axes, 1)):\n",
    "#     fig.axes[i, j].set_visible(False)\n",
    "fig.savefig(fpath, bbox_inches='tight')"
   ]
  },
  {
   "cell_type": "markdown",
   "metadata": {},
   "source": [
    "# Bound correlograms"
   ]
  },
  {
   "cell_type": "markdown",
   "metadata": {},
   "source": [
    "I'm forced to drop null values before passing to `sns.pairplot()`, so we end up with fewer values:"
   ]
  },
  {
   "cell_type": "code",
   "execution_count": null,
   "metadata": {},
   "outputs": [],
   "source": [
    "pairplots_data = data[['AgeGroup', 'Condition'] + ivars + dvars]\n",
    "print(\n",
    "    pairplots_data.shape[0],'->',\n",
    "    pairplots_data.dropna().shape[0]\n",
    ")"
   ]
  },
  {
   "cell_type": "code",
   "execution_count": null,
   "metadata": {},
   "outputs": [],
   "source": [
    "for v in varset.keys():\n",
    "    for g in ('AgeGroup', 'Condition'):\n",
    "        figpath = figures_dir / ('pairplot_' + v + '_by_' + g.lower() + '.png')\n",
    "        pplot = sns.pairplot(data = data[ [g] + varset[v] ].dropna(), hue = g)\n",
    "        pplot.savefig(figpath, bbox_inches = 'tight')\n"
   ]
  },
  {
   "cell_type": "raw",
   "metadata": {},
   "source": [
    "### Z correlograms with exclusions"
   ]
  },
  {
   "cell_type": "raw",
   "metadata": {},
   "source": [
    "zvars = ['Z_comp_change', 'Z_nb_RT', 'Z_nb_CoR', 'Z_procspd_RT', \n",
    "          'Z_NFCS_sum', 'Z_TSSI_sum', 'Z_vocab_sum']"
   ]
  },
  {
   "cell_type": "raw",
   "metadata": {},
   "source": [
    "zx_selective_pairplot_agegroup = sns.pairplot(\n",
    "    data[['AgeGroup'] + zvars].dropna(), hue='AgeGroup')\n",
    "figpath = figures_dir / 'Z_selective_pairplot_agegroup.png'\n",
    "zx_selective_pairplot_agegroup.savefig(figpath, bbox_inches='tight')"
   ]
  },
  {
   "cell_type": "raw",
   "metadata": {},
   "source": [
    "zx_selective_pairplot_condition = sns.pairplot(\n",
    "    data[['Condition'] + zvars].dropna(), hue='Condition')\n",
    "figpath = figures_dir / 'Z_selective_pairplot_condition.png'\n",
    "zx_selective_pairplot_condition.savefig(figpath, bbox_inches='tight')"
   ]
  },
  {
   "cell_type": "markdown",
   "metadata": {},
   "source": [
    "## Linear Model Plots"
   ]
  },
  {
   "cell_type": "raw",
   "metadata": {},
   "source": [
    "def my_lm_plot(x, y='comp_change_bound', x_jitter=0.0, y_jitter=0.3, hue='AgeGroup', group=None, data=data):\n",
    "    if group == None:\n",
    "        group = 'All'\n",
    "    else:\n",
    "        data = data.loc[data[hue] == group]\n",
    "    \n",
    "    fig = sns.lmplot(data=data, x=x, y=y,\n",
    "                     x_jitter=x_jitter, y_jitter=y_jitter)\n",
    "    figpath = figures_dir / ('lm_' + x +'_'+ y +'_'+ hue +'_'+ group + '.png')\n",
    "    ax = plt.gca()\n",
    "    ax.set_title((group+ ' subjects'))\n",
    "    ax.get_figure().savefig(figpath)"
   ]
  },
  {
   "cell_type": "code",
   "execution_count": null,
   "metadata": {},
   "outputs": [],
   "source": [
    "jitters = {\n",
    "    'SciLit_sum_bound': 0.2,\n",
    "}"
   ]
  },
  {
   "cell_type": "code",
   "execution_count": null,
   "metadata": {},
   "outputs": [],
   "source": [
    "# Loop through predefined ivars and dvars\n",
    "# to create individual bivariate relationship plots\n",
    "for iv in ivars:\n",
    "    for dv in dvars:\n",
    "        \n",
    "        # Select only the data we will use for each plot\n",
    "        # Grouping var, IV, DV\n",
    "        df = data[ [ 'AgeGroup' , iv , dv ] ]\n",
    "        \n",
    "        # Loop through model subsets and select only the data in the subset we want to analyze for each model\n",
    "        for group in ('All', 'OA', 'YA'):\n",
    "            if group is not 'All':\n",
    "                # Select only OAs or YAs depending on the model\n",
    "                jp_df = df.loc[df['AgeGroup'] == group]\n",
    "            # Otherwise use the whole `df` as selected earlier\n",
    "            else: jp_df = df\n",
    "                \n",
    "            # Use jitters dict to set the x_jitter on any IVs that are relatively discrete\n",
    "            # We'll use the x_jitter parameter of `sns.regplot` to add some visual noise for those IVs\n",
    "            # This doesn't affect the values being analyzed - only affects aesthetics of the plot\n",
    "            if iv in jitters.keys():\n",
    "                xj = jitters[iv]\n",
    "            else: xj=None\n",
    "            \n",
    "            # Using a JointGrid object for reasons\n",
    "            # Plotting the `regplot` & `distplot` separately so we can add visual noise\n",
    "            # `JointGrid.annotate` method embeds the test results from `scipy.stats.pearsonr`\n",
    "            g = sns.JointGrid(x = iv, y = dv, data = jp_df)\n",
    "            g = g.plot_joint(sns.regplot, x_jitter=xj, y_jitter = 0.3)\n",
    "            g = g.plot_marginals(sns.distplot)\n",
    "            g = g.annotate(sp.pearsonr)\n",
    "            \n",
    "            # Add a `_suptitle` to the JointGrid\n",
    "            g.fig.suptitle(t=(group + ' subjects'), y = 1.015)\n",
    "            \n",
    "            # Set the filename according to the plot's parameters and save\n",
    "            figpath = figures_dir / ('joint_' + iv + '_' + dv + '_' + group + '.png')\n",
    "            g.savefig(figpath)"
   ]
  },
  {
   "cell_type": "raw",
   "metadata": {},
   "source": [
    "for iv in ivars:\n",
    "    for dv in dvars:\n",
    "        \n",
    "        df = data[ [ 'AgeGroup' , iv , dv ] ]\n",
    "        \n",
    "        for model in ('All', 'OA', 'YA'):\n",
    "            if model is not 'All':\n",
    "                jp_df = df.loc[df['AgeGroup'] == 'OA']\n",
    "            else: jp_df = df\n",
    "                \n",
    "            g = sns.jointplot(\n",
    "                data = jp_df ,\n",
    "                x = iv, y = dv,\n",
    "                kind = 'reg',\n",
    "                stat_func = sp.pearsonr\n",
    "            )\n",
    "            \n",
    "            figpath = figures_dir / ('joint_' + iv + '_' + dv + '_' + model + '.png')\n",
    "            g.savefig(figpath)\n",
    "            \n",
    "            "
   ]
  },
  {
   "cell_type": "raw",
   "metadata": {},
   "source": [
    "for dv in dvars:\n",
    "    for iv in ivars:\n",
    "        corr_data = data[[dv,iv]].dropna()\n",
    "        corr = sp.pearsonr(corr_data[iv],corr_data[dv])\n",
    "        coeff = round(corr[0], 4)\n",
    "        sig = round(corr[1], 4)\n",
    "        print(dv,iv,': R = {0:.3f}, p = {1:.3f}'.format(coeff, sig))"
   ]
  },
  {
   "cell_type": "raw",
   "metadata": {},
   "source": [
    "for dv in dvars:\n",
    "    for iv in ivars:\n",
    "        if iv in jitters.keys():\n",
    "            xj = jitters[iv]\n",
    "        else:\n",
    "            xj = None\n",
    "            \n",
    "        my_lm_plot(x=iv, y=dv, x_jitter=xj)\n",
    "        my_lm_plot(x=iv, y=dv, x_jitter=xj, group = 'OA')\n",
    "        my_lm_plot(x=iv, y=dv, x_jitter=xj, group = 'YA')\n"
   ]
  },
  {
   "cell_type": "raw",
   "metadata": {},
   "source": [
    "my_lm_plot('SciLit_sum_bound', 'comp_change_bound', x_jitter=0.2)"
   ]
  },
  {
   "cell_type": "raw",
   "metadata": {},
   "source": [
    "my_lm_plot('procspd_RT_bound', 'comp_change_bound')"
   ]
  },
  {
   "cell_type": "raw",
   "metadata": {},
   "source": [
    "my_lm_plot('nb_CoR_bound', 'comp_change_bound')"
   ]
  },
  {
   "cell_type": "raw",
   "metadata": {},
   "source": [
    "my_lm_plot('nb_RT_bound', 'comp_change_bound')"
   ]
  },
  {
   "cell_type": "raw",
   "metadata": {},
   "source": [
    "my_lm_plot('vocab_sum_bound', 'comp_change_bound')"
   ]
  },
  {
   "cell_type": "raw",
   "metadata": {},
   "source": [
    "my_lm_plot('NFCS_sum_bound', 'comp_change_bound')"
   ]
  },
  {
   "cell_type": "raw",
   "metadata": {},
   "source": [
    "my_lm_plot('TSSI_sum_bound', 'comp_change_bound')"
   ]
  },
  {
   "cell_type": "raw",
   "metadata": {},
   "source": [
    "data['Age'].loc[data['AgeGroup'].dropna().index]"
   ]
  },
  {
   "cell_type": "raw",
   "metadata": {},
   "source": [
    "sp.zscore(data['Age'].loc[data['AgeGroup']=='YA'])"
   ]
  },
  {
   "cell_type": "raw",
   "metadata": {},
   "source": [
    "# Vertical Bar plots"
   ]
  },
  {
   "cell_type": "raw",
   "metadata": {},
   "source": [
    "for var in vars_of_interest:\n",
    "    for grp in grps_of_interest:\n",
    "        fpath = Path('..') / '..' / 'derivatives' / 'figures' / (var+'_'+''.join(grp)+'.png')\n",
    "        means = slim_data.groupby(grp).mean()\n",
    "        sem = slim_data.groupby(grp).sem()\n",
    "        plot = means.plot.bar(\n",
    "            y=var,yerr=sem,xticks=np.arange(0,max(data[var]),\n",
    "                                            step=np.rint(max(data[var])*(1/5))),\n",
    "            legend=False,title=var,rot=14\n",
    "        ).get_figure().savefig(fpath, bbox_inches='tight')"
   ]
  },
  {
   "cell_type": "markdown",
   "metadata": {},
   "source": [
    "# Horizontal Swarm, Strip, Box, Bar plots"
   ]
  },
  {
   "cell_type": "code",
   "execution_count": null,
   "metadata": {},
   "outputs": [],
   "source": [
    "plot_types = { 'swarm':sns.swarmplot, 'box':sns.boxplot, 'strip': sns.stripplot }\n",
    "for p in plot_types.keys():\n",
    "    for grpY in [['AgeGroup','Condition'], ['AgeGroup'], ['Condition']]:\n",
    "        for varX in (ivars + dvars):\n",
    "            df = (data.dropna(subset=grpY)\n",
    "                      .set_index(grpY))\n",
    "\n",
    "            fig = plot_types[p](data=df, x=varX, y=df.index)\n",
    "\n",
    "\n",
    "            fname = varX + '_'+ ''.join(grpY) +'_'+ p +'.png'\n",
    "            fpath = figures_dir / fname\n",
    "            print(fpath)\n",
    "\n",
    "            fig.get_figure().savefig(fpath, bbox_inches='tight')\n",
    "            plt.clf()\n",
    "\n",
    "print('Done!')"
   ]
  }
 ],
 "metadata": {
  "kernelspec": {
   "display_name": "Python 3",
   "language": "python",
   "name": "python3"
  },
  "language_info": {
   "codemirror_mode": {
    "name": "ipython",
    "version": 3
   },
   "file_extension": ".py",
   "mimetype": "text/x-python",
   "name": "python",
   "nbconvert_exporter": "python",
   "pygments_lexer": "ipython3",
   "version": "3.7.2"
  }
 },
 "nbformat": 4,
 "nbformat_minor": 2
}
