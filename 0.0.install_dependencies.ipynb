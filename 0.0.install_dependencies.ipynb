{
 "cells": [
  {
   "cell_type": "markdown",
   "metadata": {},
   "source": [
    "# Install Dependencies"
   ]
  },
  {
   "cell_type": "code",
   "execution_count": 1,
   "metadata": {},
   "outputs": [],
   "source": [
    "import sys"
   ]
  },
  {
   "cell_type": "code",
   "execution_count": 2,
   "metadata": {},
   "outputs": [
    {
     "name": "stdout",
     "output_type": "stream",
     "text": [
      "Requirement already up-to-date: pip in c:\\users\\mi838831\\appdata\\local\\programs\\python\\python37-32\\lib\\site-packages (18.1)\n",
      "Requirement already satisfied: pandas in c:\\users\\mi838831\\appdata\\local\\programs\\python\\python37-32\\lib\\site-packages (0.23.4)\n",
      "Requirement already satisfied: pytz>=2011k in c:\\users\\mi838831\\appdata\\local\\programs\\python\\python37-32\\lib\\site-packages (from pandas) (2018.5)\n",
      "Requirement already satisfied: numpy>=1.9.0 in c:\\users\\mi838831\\appdata\\local\\programs\\python\\python37-32\\lib\\site-packages (from pandas) (1.15.2)\n",
      "Requirement already satisfied: python-dateutil>=2.5.0 in c:\\users\\mi838831\\appdata\\local\\programs\\python\\python37-32\\lib\\site-packages (from pandas) (2.7.3)\n",
      "Requirement already satisfied: six>=1.5 in c:\\users\\mi838831\\appdata\\local\\programs\\python\\python37-32\\lib\\site-packages (from python-dateutil>=2.5.0->pandas) (1.11.0)\n",
      "Requirement already satisfied: requests in c:\\users\\mi838831\\appdata\\local\\programs\\python\\python37-32\\lib\\site-packages (2.19.1)\n",
      "Requirement already satisfied: certifi>=2017.4.17 in c:\\users\\mi838831\\appdata\\local\\programs\\python\\python37-32\\lib\\site-packages (from requests) (2018.8.24)\n",
      "Requirement already satisfied: idna<2.8,>=2.5 in c:\\users\\mi838831\\appdata\\local\\programs\\python\\python37-32\\lib\\site-packages (from requests) (2.7)\n",
      "Requirement already satisfied: urllib3<1.24,>=1.21.1 in c:\\users\\mi838831\\appdata\\local\\programs\\python\\python37-32\\lib\\site-packages (from requests) (1.23)\n",
      "Requirement already satisfied: chardet<3.1.0,>=3.0.2 in c:\\users\\mi838831\\appdata\\local\\programs\\python\\python37-32\\lib\\site-packages (from requests) (3.0.4)\n",
      "Requirement already satisfied: xlrd in c:\\users\\mi838831\\appdata\\local\\programs\\python\\python37-32\\lib\\site-packages (1.1.0)\n",
      "Collecting sklearn\n",
      "  Downloading https://files.pythonhosted.org/packages/1e/7a/dbb3be0ce9bd5c8b7e3d87328e79063f8b263b2b1bfa4774cb1147bfcd3f/sklearn-0.0.tar.gz\n",
      "Collecting scikit-learn (from sklearn)\n",
      "  Downloading https://files.pythonhosted.org/packages/0c/0c/411514aded29459ce4388454c69b9ab56cf0e69ce3ab128010e930c66977/scikit_learn-0.20.0-cp37-cp37m-win32.whl (4.3MB)\n",
      "Requirement already satisfied: numpy>=1.8.2 in c:\\users\\mi838831\\appdata\\local\\programs\\python\\python37-32\\lib\\site-packages (from scikit-learn->sklearn) (1.15.2)\n",
      "Collecting scipy>=0.13.3 (from scikit-learn->sklearn)\n",
      "  Downloading https://files.pythonhosted.org/packages/e8/08/6ceee982af40b23566016e29a7a81ed258e739d2d718e03049446c3ccf31/scipy-1.1.0-cp37-none-win32.whl (26.1MB)\n",
      "Installing collected packages: scipy, scikit-learn, sklearn\n",
      "  Running setup.py install for sklearn: started\n",
      "    Running setup.py install for sklearn: finished with status 'done'\n",
      "Successfully installed scikit-learn-0.20.0 scipy-1.1.0 sklearn-0.0\n",
      "Collecting seaborn\n",
      "  Downloading https://files.pythonhosted.org/packages/a8/76/220ba4420459d9c4c9c9587c6ce607bf56c25b3d3d2de62056efe482dadc/seaborn-0.9.0-py3-none-any.whl (208kB)\n",
      "Requirement already satisfied: scipy>=0.14.0 in c:\\users\\mi838831\\appdata\\local\\programs\\python\\python37-32\\lib\\site-packages (from seaborn) (1.1.0)\n",
      "Requirement already satisfied: numpy>=1.9.3 in c:\\users\\mi838831\\appdata\\local\\programs\\python\\python37-32\\lib\\site-packages (from seaborn) (1.15.2)\n",
      "Requirement already satisfied: pandas>=0.15.2 in c:\\users\\mi838831\\appdata\\local\\programs\\python\\python37-32\\lib\\site-packages (from seaborn) (0.23.4)\n",
      "Collecting matplotlib>=1.4.3 (from seaborn)\n",
      "  Downloading https://files.pythonhosted.org/packages/d3/f9/1d64728ec21c821f83ca97ad21e819de8705a436e8a0f9d1ada98d13c79d/matplotlib-3.0.0-cp37-cp37m-win32.whl (8.7MB)\n",
      "Requirement already satisfied: python-dateutil>=2.5.0 in c:\\users\\mi838831\\appdata\\local\\programs\\python\\python37-32\\lib\\site-packages (from pandas>=0.15.2->seaborn) (2.7.3)\n",
      "Requirement already satisfied: pytz>=2011k in c:\\users\\mi838831\\appdata\\local\\programs\\python\\python37-32\\lib\\site-packages (from pandas>=0.15.2->seaborn) (2018.5)\n",
      "Collecting cycler>=0.10 (from matplotlib>=1.4.3->seaborn)\n",
      "  Downloading https://files.pythonhosted.org/packages/f7/d2/e07d3ebb2bd7af696440ce7e754c59dd546ffe1bbe732c8ab68b9c834e61/cycler-0.10.0-py2.py3-none-any.whl\n",
      "Collecting pyparsing!=2.0.4,!=2.1.2,!=2.1.6,>=2.0.1 (from matplotlib>=1.4.3->seaborn)\n",
      "  Downloading https://files.pythonhosted.org/packages/2b/4a/f06b45ab9690d4c37641ec776f7ad691974f4cf6943a73267475b05cbfca/pyparsing-2.2.2-py2.py3-none-any.whl (57kB)\n",
      "Collecting kiwisolver>=1.0.1 (from matplotlib>=1.4.3->seaborn)\n",
      "  Downloading https://files.pythonhosted.org/packages/63/95/6e03c1e40776851eda7af2e9b014bcf510e3205033c33b604c2ee36687a1/kiwisolver-1.0.1-cp37-none-win32.whl (44kB)\n",
      "Requirement already satisfied: six>=1.5 in c:\\users\\mi838831\\appdata\\local\\programs\\python\\python37-32\\lib\\site-packages (from python-dateutil>=2.5.0->pandas>=0.15.2->seaborn) (1.11.0)\n",
      "Requirement already satisfied: setuptools in c:\\users\\mi838831\\appdata\\local\\programs\\python\\python37-32\\lib\\site-packages (from kiwisolver>=1.0.1->matplotlib>=1.4.3->seaborn) (39.0.1)\n",
      "Installing collected packages: cycler, pyparsing, kiwisolver, matplotlib, seaborn\n",
      "Successfully installed cycler-0.10.0 kiwisolver-1.0.1 matplotlib-3.0.0 pyparsing-2.2.2 seaborn-0.9.0\n"
     ]
    }
   ],
   "source": [
    "!{sys.executable} -m pip install --upgrade pip\n",
    "!{sys.executable} -m pip install pandas\n",
    "!{sys.executable} -m pip install requests\n",
    "!{sys.executable} -m pip install xlrd\n",
    "!{sys.executable} -m pip install sklearn\n",
    "!{sys.executable} -m pip install seaborn"
   ]
  },
  {
   "cell_type": "code",
   "execution_count": 4,
   "metadata": {},
   "outputs": [
    {
     "name": "stdout",
     "output_type": "stream",
     "text": [
      "Collecting git+git://github.com/tsalo/convert-eprime\n",
      "  Cloning git://github.com/tsalo/convert-eprime to c:\\users\\mi838831\\appdata\\local\\temp\\pip-req-build-q4wnf_ep\n"
     ]
    },
    {
     "name": "stderr",
     "output_type": "stream",
     "text": [
      "  Error [WinError 2] The system cannot find the file specified while executing command git clone -q git://github.com/tsalo/convert-eprime C:\\Users\\mi838831\\AppData\\Local\\Temp\\pip-req-build-q4wnf_ep\n",
      "Cannot find command 'git' - do you have 'git' installed and in your PATH?\n"
     ]
    }
   ],
   "source": [
    "!{sys.executable} -m pip install git+git://github.com/tsalo/convert-eprime"
   ]
  }
 ],
 "metadata": {
  "kernelspec": {
   "display_name": "Python 3",
   "language": "python",
   "name": "python3"
  },
  "language_info": {
   "codemirror_mode": {
    "name": "ipython",
    "version": 3
   },
   "file_extension": ".py",
   "mimetype": "text/x-python",
   "name": "python",
   "nbconvert_exporter": "python",
   "pygments_lexer": "ipython3",
   "version": "3.7.0"
  }
 },
 "nbformat": 4,
 "nbformat_minor": 2
}
