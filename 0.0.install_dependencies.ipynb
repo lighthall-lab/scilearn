{
 "cells": [
  {
   "cell_type": "markdown",
   "metadata": {},
   "source": [
    "# Install Dependencies"
   ]
  },
  {
   "cell_type": "code",
   "execution_count": 1,
   "metadata": {},
   "outputs": [],
   "source": [
    "import sys"
   ]
  },
  {
   "cell_type": "code",
   "execution_count": 3,
   "metadata": {},
   "outputs": [
    {
     "name": "stdout",
     "output_type": "stream",
     "text": [
      "Requirement already up-to-date: pip in c:\\users\\lab_cos_add\\appdata\\local\\programs\\python\\python37-32\\lib\\site-packages (18.1)\n",
      "Requirement already satisfied: pandas in c:\\users\\lab_cos_add\\appdata\\local\\programs\\python\\python37-32\\lib\\site-packages (0.23.4)\n",
      "Requirement already satisfied: pytz>=2011k in c:\\users\\lab_cos_add\\appdata\\local\\programs\\python\\python37-32\\lib\\site-packages (from pandas) (2018.5)\n",
      "Requirement already satisfied: numpy>=1.9.0 in c:\\users\\lab_cos_add\\appdata\\local\\programs\\python\\python37-32\\lib\\site-packages (from pandas) (1.15.2)\n",
      "Requirement already satisfied: python-dateutil>=2.5.0 in c:\\users\\lab_cos_add\\appdata\\local\\programs\\python\\python37-32\\lib\\site-packages (from pandas) (2.7.3)\n",
      "Requirement already satisfied: six>=1.5 in c:\\users\\lab_cos_add\\appdata\\local\\programs\\python\\python37-32\\lib\\site-packages (from python-dateutil>=2.5.0->pandas) (1.11.0)\n",
      "Requirement already satisfied: requests in c:\\users\\lab_cos_add\\appdata\\local\\programs\\python\\python37-32\\lib\\site-packages (2.19.1)\n",
      "Requirement already satisfied: chardet<3.1.0,>=3.0.2 in c:\\users\\lab_cos_add\\appdata\\local\\programs\\python\\python37-32\\lib\\site-packages (from requests) (3.0.4)\n",
      "Requirement already satisfied: idna<2.8,>=2.5 in c:\\users\\lab_cos_add\\appdata\\local\\programs\\python\\python37-32\\lib\\site-packages (from requests) (2.7)\n",
      "Requirement already satisfied: urllib3<1.24,>=1.21.1 in c:\\users\\lab_cos_add\\appdata\\local\\programs\\python\\python37-32\\lib\\site-packages (from requests) (1.23)\n",
      "Requirement already satisfied: certifi>=2017.4.17 in c:\\users\\lab_cos_add\\appdata\\local\\programs\\python\\python37-32\\lib\\site-packages (from requests) (2018.10.15)\n",
      "Requirement already satisfied: xlrd in c:\\users\\lab_cos_add\\appdata\\local\\programs\\python\\python37-32\\lib\\site-packages (1.1.0)\n",
      "Requirement already satisfied: sklearn in c:\\users\\lab_cos_add\\appdata\\local\\programs\\python\\python37-32\\lib\\site-packages (0.0)\n",
      "Requirement already satisfied: scikit-learn in c:\\users\\lab_cos_add\\appdata\\local\\programs\\python\\python37-32\\lib\\site-packages (from sklearn) (0.20.0)\n",
      "Requirement already satisfied: scipy>=0.13.3 in c:\\users\\lab_cos_add\\appdata\\local\\programs\\python\\python37-32\\lib\\site-packages (from scikit-learn->sklearn) (1.1.0)\n",
      "Requirement already satisfied: numpy>=1.8.2 in c:\\users\\lab_cos_add\\appdata\\local\\programs\\python\\python37-32\\lib\\site-packages (from scikit-learn->sklearn) (1.15.2)\n"
     ]
    }
   ],
   "source": [
    "!{sys.executable} -m pip install --upgrade pip\n",
    "!{sys.executable} -m pip install pandas\n",
    "!{sys.executable} -m pip install requests\n",
    "!{sys.executable} -m pip install xlrd\n",
    "!{sys.executable} -m pip install sklearn"
   ]
  },
  {
   "cell_type": "code",
   "execution_count": 4,
   "metadata": {},
   "outputs": [
    {
     "name": "stdout",
     "output_type": "stream",
     "text": [
      "Collecting git+git://github.com/tsalo/convert-eprime\n",
      "  Cloning git://github.com/tsalo/convert-eprime to c:\\users\\lab_co~1\\appdata\\local\\temp\\pip-req-build-3vktld0p\n",
      "Collecting future (from convert-eprime==0.0.1a0)\n",
      "  Downloading https://files.pythonhosted.org/packages/00/2b/8d082ddfed935f3608cc61140df6dcbf0edea1bc3ab52fb6c29ae3e81e85/future-0.16.0.tar.gz (824kB)\n",
      "Requirement already satisfied: pandas>=0.18.1 in c:\\users\\lab_cos_add\\appdata\\local\\programs\\python\\python37-32\\lib\\site-packages (from convert-eprime==0.0.1a0) (0.23.4)\n",
      "Requirement already satisfied: numpy>=1.13.1 in c:\\users\\lab_cos_add\\appdata\\local\\programs\\python\\python37-32\\lib\\site-packages (from convert-eprime==0.0.1a0) (1.15.2)\n",
      "Requirement already satisfied: setuptools>=36.1.0 in c:\\users\\lab_cos_add\\appdata\\local\\programs\\python\\python37-32\\lib\\site-packages (from convert-eprime==0.0.1a0) (39.0.1)\n",
      "Requirement already satisfied: pytz>=2011k in c:\\users\\lab_cos_add\\appdata\\local\\programs\\python\\python37-32\\lib\\site-packages (from pandas>=0.18.1->convert-eprime==0.0.1a0) (2018.5)\n",
      "Requirement already satisfied: python-dateutil>=2.5.0 in c:\\users\\lab_cos_add\\appdata\\local\\programs\\python\\python37-32\\lib\\site-packages (from pandas>=0.18.1->convert-eprime==0.0.1a0) (2.7.3)\n",
      "Requirement already satisfied: six>=1.5 in c:\\users\\lab_cos_add\\appdata\\local\\programs\\python\\python37-32\\lib\\site-packages (from python-dateutil>=2.5.0->pandas>=0.18.1->convert-eprime==0.0.1a0) (1.11.0)\n",
      "Installing collected packages: future, convert-eprime\n",
      "  Running setup.py install for future: started\n",
      "    Running setup.py install for future: finished with status 'done'\n",
      "  Running setup.py install for convert-eprime: started\n",
      "    Running setup.py install for convert-eprime: finished with status 'done'\n",
      "Successfully installed convert-eprime-0.0.1a0 future-0.16.0\n"
     ]
    }
   ],
   "source": [
    "!{sys.executable} -m pip install git+git://github.com/tsalo/convert-eprime"
   ]
  }
 ],
 "metadata": {
  "kernelspec": {
   "display_name": "Python 3",
   "language": "python",
   "name": "python3"
  },
  "language_info": {
   "codemirror_mode": {
    "name": "ipython",
    "version": 3
   },
   "file_extension": ".py",
   "mimetype": "text/x-python",
   "name": "python",
   "nbconvert_exporter": "python",
   "pygments_lexer": "ipython3",
   "version": "3.7.0"
  }
 },
 "nbformat": 4,
 "nbformat_minor": 2
}
